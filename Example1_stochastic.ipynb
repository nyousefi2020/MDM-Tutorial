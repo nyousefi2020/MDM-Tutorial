{
 "cells": [
  {
   "cell_type": "code",
   "execution_count": 2,
   "metadata": {},
   "outputs": [
    {
     "name": "stdout",
     "output_type": "stream",
     "text": [
      "Discarded solution information\n",
      "Gurobi Optimizer version 9.5.2 build v9.5.2rc0 (mac64[rosetta2])\n",
      "Thread count: 10 physical cores, 10 logical processors, using up to 10 threads\n",
      "Optimize a model with 1 rows, 3 columns and 3 nonzeros\n",
      "Model fingerprint: 0x91b4a5f7\n",
      "Coefficient statistics:\n",
      "  Matrix range     [3e-01, 1e+02]\n",
      "  Objective range  [1e-01, 1e+01]\n",
      "  Bounds range     [1e+04, 3e+06]\n",
      "  RHS range        [1e+07, 1e+07]\n",
      "Presolve removed 1 rows and 3 columns\n",
      "Presolve time: 0.00s\n",
      "Presolve: All rows and columns removed\n",
      "Iteration    Objective       Primal Inf.    Dual Inf.      Time\n",
      "       0    1.1611867e+06   0.000000e+00   0.000000e+00      0s\n",
      "\n",
      "Solved in 0 iterations and 0.01 seconds (0.00 work units)\n",
      "Optimal objective  1.161186698e+06\n",
      "Program[0] = 50000.0000\n",
      "Program[1] = 23355.8653\n",
      "Program[2] = 3000000.0000\n",
      "Max QALYs = 1161186.6984\n"
     ]
    }
   ],
   "source": [
    "# Import necessary packages\n",
    "import gurobipy as gp\n",
    "from gurobipy import GRB\n",
    "import numpy as np\n",
    "        \n",
    "# Create a Gurobi model\n",
    "m = gp.Model('HIV')\n",
    "m.reset()\n",
    "\n",
    "# PARAMETERS\n",
    "# Costs, per person reached, by each program\n",
    "# Cost values are divided by 1000 for computational reasons\n",
    "c = np.array([118.100,140.393,0.272])\n",
    "\n",
    "# QALYs gained, per person reached, by each program\n",
    "# in each of 3 scenarios\n",
    "a_scenario1 = np.array([3.06,20.48,0.05])\n",
    "a_scenario2 = np.array([15.53,1.24,0.222])\n",
    "a_scenario3 = np.array([2.42,40.60,0.02])\n",
    "# Compute the expected number of QALYs gained per person reached\n",
    "a = 0.4*a_scenario1 + 0.5*a_scenario2 + 0.1*a_scenario3\n",
    "\n",
    "# Minimum/maximum number of persons reached by each program \n",
    "# in array form\n",
    "x_min = np.array([50000,10000,10000])\n",
    "x_max = np.array([400000,3000000,3000000]) \n",
    "\n",
    "# Budget\n",
    "# The budget is divided by 1000 for computational reasons\n",
    "B = 10000000.000\n",
    "\n",
    "# DECISION VARIABLES\n",
    "# The number of people to reach with each program\n",
    "x = m.addMVar(3, lb=x_min, ub=x_max, vtype=GRB.CONTINUOUS, name=\"Program\")\n",
    "\n",
    "# CONSTRAINT\n",
    "# The total cost across all programs must equal the budget\n",
    "m.addConstr(c@x == B)\n",
    "\n",
    "# OBJECTIVE\n",
    "# Maximize the total number of QALYs gained\n",
    "m.setObjective(a@x, GRB.MAXIMIZE)\n",
    "\n",
    "# Run the optimization model\n",
    "m.optimize()\n",
    "\n",
    "# Print the optimal solution and its objective value\n",
    "for v in m.getVars():\n",
    "    print(\"%s = %.4f\" % (v.varName, v.x))\n",
    "print(\"Max QALYs = %.4f\" % m.objVal)"
   ]
  }
 ],
 "metadata": {
  "kernelspec": {
   "display_name": "Python 3 (ipykernel)",
   "language": "python",
   "name": "python3"
  },
  "language_info": {
   "codemirror_mode": {
    "name": "ipython",
    "version": 3
   },
   "file_extension": ".py",
   "mimetype": "text/x-python",
   "name": "python",
   "nbconvert_exporter": "python",
   "pygments_lexer": "ipython3",
   "version": "3.9.12"
  }
 },
 "nbformat": 4,
 "nbformat_minor": 4
}
