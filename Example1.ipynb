{
 "cells": [
  {
   "cell_type": "code",
   "execution_count": 1,
   "metadata": {},
   "outputs": [
    {
     "name": "stdout",
     "output_type": "stream",
     "text": [
      "Set parameter Username\n",
      "Academic license - for non-commercial use only - expires 2024-02-26\n",
      "Gurobi Optimizer version 10.0.1 build v10.0.1rc0 (win64)\n",
      "\n",
      "CPU model: Intel(R) Core(TM) i7-7500U CPU @ 2.70GHz, instruction set [SSE2|AVX|AVX2]\n",
      "Thread count: 2 physical cores, 4 logical processors, using up to 4 threads\n",
      "\n",
      "Optimize a model with 1 rows, 3 columns and 3 nonzeros\n",
      "Model fingerprint: 0x87500b89\n",
      "Coefficient statistics:\n",
      "  Matrix range     [3e-01, 1e+02]\n",
      "  Objective range  [2e-01, 2e+01]\n",
      "  Bounds range     [1e+04, 3e+06]\n",
      "  RHS range        [1e+07, 1e+07]\n",
      "Presolve removed 1 rows and 3 columns\n",
      "Presolve time: 0.03s\n",
      "Presolve: All rows and columns removed\n",
      "Iteration    Objective       Primal Inf.    Dual Inf.      Time\n",
      "       0    1.7014693e+06   0.000000e+00   0.000000e+00      0s\n",
      "\n",
      "Solved in 0 iterations and 0.05 seconds (0.00 work units)\n",
      "Optimal objective  1.701469323e+06\n",
      "Program[0] = 65876.9687\n",
      "Program[1] = 10000.0000\n",
      "Program[2] = 3000000.0000\n",
      "Max QALYS = 1701469.3235\n"
     ]
    }
   ],
   "source": [
    "# Import Gurobi packages\n",
    "import gurobipy as gp\n",
    "from gurobipy import GRB\n",
    "\n",
    "# Create a Gurobi model object\n",
    "m = gp.Model('HIV')\n",
    "\n",
    "# DECISION VARIABLES\n",
    "# Create continuous variables\n",
    "# indicating the number of people reached by each of 3 programs\n",
    "x = m.addVars(3,vtype=GRB.CONTINUOUS,name=\"Program\")\n",
    "\n",
    "# PARAMETERS\n",
    "# costs, per person reached, by each of 3 types of programs\n",
    "# Cost values are divided by 1000 for computational reasons\n",
    "c = [118.100,140.393,0.272]\n",
    "#total cost\n",
    "cost = x[0]*c[0]+x[1]*c[1]+x[2]*c[2]\n",
    "\n",
    "# QALYs gained, per person reached, by each of 3 programs\n",
    "a = [15.53,1.24,0.222]\n",
    "# total qalys\n",
    "qalys = x[0]*a[0]+x[1]*a[1]+x[2]*a[2]\n",
    "\n",
    "# Budget\n",
    "# The budget is divided by 1000 for computational reasons\n",
    "B = 10000000.000\n",
    "\n",
    "# CONSTRAINTS\n",
    "# Budget\n",
    "m.addConstr(cost==B)\n",
    "\n",
    "# Limits\n",
    "x[0].lb=50000\n",
    "x[0].ub=400000\n",
    "x[1].lb=10000\n",
    "x[1].ub=3000000\n",
    "x[2].lb=10000\n",
    "x[2].ub=3000000\n",
    "\n",
    "# OBJECTIVE\n",
    "# Maximize the total number of QALYs gained\n",
    "m.setObjective(qalys, GRB.MAXIMIZE)\n",
    "\n",
    "# Run the optimization model\n",
    "m.optimize()\n",
    "\n",
    "# Print the optimal solution and its objective value\n",
    "for v in m.getVars():\n",
    "    print(\"%s = %.4f\" % (v.varName, v.x))\n",
    "print(\"Max QALYs = %.4f\" % m.objVal)"
   ]
  }
 ],
 "metadata": {
  "kernelspec": {
   "display_name": "Python 3",
   "language": "python",
   "name": "python3"
  },
  "language_info": {
   "codemirror_mode": {
    "name": "ipython",
    "version": 3
   },
   "file_extension": ".py",
   "mimetype": "text/x-python",
   "name": "python",
   "nbconvert_exporter": "python",
   "pygments_lexer": "ipython3",
   "version": "3.8.5"
  },
  "vscode": {
   "interpreter": {
    "hash": "ad2bdc8ecc057115af97d19610ffacc2b4e99fae6737bb82f5d7fb13d2f2c186"
   }
  }
 },
 "nbformat": 4,
 "nbformat_minor": 4
}
